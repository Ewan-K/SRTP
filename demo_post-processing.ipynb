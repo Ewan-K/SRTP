{
 "cells": [
  {
   "cell_type": "code",
   "execution_count": 1,
   "metadata": {
    "collapsed": true
   },
   "outputs": [],
   "source": [
    "import numpy as np\n",
    "import matplotlib.pyplot as plt"
   ]
  },
  {
   "cell_type": "code",
   "execution_count": 2,
   "metadata": {},
   "outputs": [
    {
     "output_type": "display_data",
     "data": {
      "text/plain": "<Figure size 432x288 with 1 Axes>",
      "image/svg+xml": "<?xml version=\"1.0\" encoding=\"utf-8\" standalone=\"no\"?>\r\n<!DOCTYPE svg PUBLIC \"-//W3C//DTD SVG 1.1//EN\"\r\n  \"http://www.w3.org/Graphics/SVG/1.1/DTD/svg11.dtd\">\r\n<!-- Created with matplotlib (http://matplotlib.org/) -->\r\n<svg height=\"252.018125pt\" version=\"1.1\" viewBox=\"0 0 261.4275 252.018125\" width=\"261.4275pt\" xmlns=\"http://www.w3.org/2000/svg\" xmlns:xlink=\"http://www.w3.org/1999/xlink\">\r\n <defs>\r\n  <style type=\"text/css\">\r\n*{stroke-linecap:butt;stroke-linejoin:round;}\r\n  </style>\r\n </defs>\r\n <g id=\"figure_1\">\r\n  <g id=\"patch_1\">\r\n   <path d=\"M 0 252.018125 \r\nL 261.4275 252.018125 \r\nL 261.4275 0 \r\nL 0 0 \r\nz\r\n\" style=\"fill:none;\"/>\r\n  </g>\r\n  <g id=\"axes_1\">\r\n   <g id=\"patch_2\">\r\n    <path d=\"M 33.2875 228.14 \r\nL 250.7275 228.14 \r\nL 250.7275 10.7 \r\nL 33.2875 10.7 \r\nz\r\n\" style=\"fill:#ffffff;\"/>\r\n   </g>\r\n   <g clip-path=\"url(#p99f321a189)\">\r\n    <image height=\"218\" id=\"image3aaf62e25a\" transform=\"scale(1 -1)translate(0 -218)\" width=\"218\" x=\"33.2875\" xlink:href=\"data:image/png;base64,\r\niVBORw0KGgoAAAANSUhEUgAAANoAAADaCAYAAADAHVzbAAAABHNCSVQICAgIfAhkiAAABX5JREFUeJzt3dt22zYQQFGwK///y+qDV+vIpiRegMEA2Pu5TV2ThxhOFGcrpTwK0NQ/vb8AWIHQIIDQIIDQIIDQIIDQIIDQIMCf3l/ADB6Pc78VuW1bo6+ErJxoEEBoEEBoEEBoEODlMsQLPtRj6/jB2QfO2V/TA2oNS4TWIpZajnxtYhzfMKH1juXdzX5lzD7z73z6Z4WYX2homWOJduRrOfr9GulUXPXdv1poZ76Bs3zzWqvxffrvutx9yLlm91QLzYXIqdbIa3y9Z5h3tMxGvclWHV97EBpvfYqj5qk4M6FxS81TcWZCo7m/Y1w1Op91hAAvT7RXI8HPJ9LKL7hw1OkTTVhwntERAggNAtg60tUqryJC47arK/tVIiulwui46u+LcM9KkZVyMbTVvklwl2UIBBAaBBAaBBAaBBAaBKgSmhU/vHc5NCt+OM7oCAGEBgGEBgF8qJjbrvykrHcLtBnf/51oEOBWaDM+eaAFJxoEEBoEEBoEEBoEqBaazzvCa7dDs3mEz4yOEEBoEEBoEMBnHWlu27anZdmK7/VVTzSbR/a4LyqFtuITimP8fXpfvKMRZtXIShEaDRkZvwmNJoyMz4RGc6tHVkqD0IwLuAd+c6JRlZFxn9BoRmTfhEY1RsbXhEYVRsb3hEZ1IvutSWhGiLW43p9VC81TbE1GxmP8MRl2XTmlRPaadzQIIDQIIDQIIDQI0Cw0K1/4VjU0WyfYZ3SEAEKDAEKDAEKDAE1Ds3mEL9VDs3mE33yomF2vHpir/wz9q7yjQQChQQChcZll13FC4xTvZdc0D81TDxqF5qkHz4yOEEBoEEBoECAkNAsRVtcsNAsR+GZ05BbTyjFC4zTTynlCgwBCgwBhoZnlWVnT0Mzy8MXoCAGEBgGEBgGEBgGExm02yp+FhuaCzMNG+ZzmobkgYHSEEEKDAEKDAEKDAOGh2TyyopDQbB5ZndERAgiNKrwSvCc0LvNKcJzQIECX0IwZrGYrpYTd9f7+47FdeUC6zl+MjhBAaBBAaBBAaBBAaBCgW2hW/KwkNDSrXlZldIQAQoMAQuMQ79T3dA3Nxcvv8Xi4ThX8if4Pbtvmwg1i7zpZaF0THhpj+BmZwO4RGk+cYm1YhvA/kbXjRKOUYlRsrfuJZjHSn8ja6xKaC5nD3uretWmj+4lGHiJrxzvaovz8llhCW4xRsQ+j40JE1o/QFiGyvlKEZsXfjs1iDt1Cc7Hb80mPPCxDJuUUy0Vok3GK5ZTiHY06RJaXE20SRsXc0pxoNo/XiSy/rqG5Ie6xuh9HmhONc7yPjcU72oCcYuMR2kCcYuMyOg5CZGNzog3AqDi+VCeaFf8zW8V5dA/NjbPPqDgXo2NCTrH5dD/ReCayOTnRkjAqzs2JloDI5pcutNU2j3ujosjmkyK0FW8sq/u1eEcLJq41pTjRViGydQktiMjWljK02RYiP3/OvcjWkya0GW++nwuPGf8fOSZNaLOZ7VTmHlvHBryP8ZMTrTKRsceJVomPUfGOE60CkfFJ2tBGWSb4rCJHpAptpBvUZxU5I1VoozAqcpZlyElOMa4Q2kFOMe4wOh4gMu5KHVqGzaOtIjWkCy3TTex9jFq8o+0wKlJbuhOtN5HRghPtL0ZFWhFacYrRXvrRsfXmUWRESBla1I1udU+UJUdHpxjRUp5oLYmMHpY60WwV6WWJ0Jxi9Db96CgyMhgitKsrfltFskgb2t0gvI+RSdrQ7hAZ2UwXmsjIaKqto79QgqymCC3Dn8SGd7ZSSpq7tFYwTjOymeJEK0Vc5DbFMkRkZDd8aCJjBMOHBiMQGgQQGgQQGgQQGgQQGgQQGgQQGgRI9VlHmJUTDQIIDQIIDQIIDQIIDQIIDQL8CzAc0RekjEiDAAAAAElFTkSuQmCC\" y=\"-10.14\"/>\r\n   </g>\r\n   <g id=\"matplotlib.axis_1\">\r\n    <g id=\"xtick_1\">\r\n     <g id=\"line2d_1\">\r\n      <defs>\r\n       <path d=\"M 0 0 \r\nL 0 3.5 \r\n\" id=\"m16571261a2\" style=\"stroke:#000000;stroke-width:0.8;\"/>\r\n      </defs>\r\n      <g>\r\n       <use style=\"stroke:#000000;stroke-width:0.8;\" x=\"33.772857\" xlink:href=\"#m16571261a2\" y=\"228.14\"/>\r\n      </g>\r\n     </g>\r\n     <g id=\"text_1\">\r\n      <!-- 0 -->\r\n      <defs>\r\n       <path d=\"M 31.78125 66.40625 \r\nQ 24.171875 66.40625 20.328125 58.90625 \r\nQ 16.5 51.421875 16.5 36.375 \r\nQ 16.5 21.390625 20.328125 13.890625 \r\nQ 24.171875 6.390625 31.78125 6.390625 \r\nQ 39.453125 6.390625 43.28125 13.890625 \r\nQ 47.125 21.390625 47.125 36.375 \r\nQ 47.125 51.421875 43.28125 58.90625 \r\nQ 39.453125 66.40625 31.78125 66.40625 \r\nz\r\nM 31.78125 74.21875 \r\nQ 44.046875 74.21875 50.515625 64.515625 \r\nQ 56.984375 54.828125 56.984375 36.375 \r\nQ 56.984375 17.96875 50.515625 8.265625 \r\nQ 44.046875 -1.421875 31.78125 -1.421875 \r\nQ 19.53125 -1.421875 13.0625 8.265625 \r\nQ 6.59375 17.96875 6.59375 36.375 \r\nQ 6.59375 54.828125 13.0625 64.515625 \r\nQ 19.53125 74.21875 31.78125 74.21875 \r\nz\r\n\" id=\"DejaVuSans-30\"/>\r\n      </defs>\r\n      <g transform=\"translate(30.591607 242.738437)scale(0.1 -0.1)\">\r\n       <use xlink:href=\"#DejaVuSans-30\"/>\r\n      </g>\r\n     </g>\r\n    </g>\r\n    <g id=\"xtick_2\">\r\n     <g id=\"line2d_2\">\r\n      <g>\r\n       <use style=\"stroke:#000000;stroke-width:0.8;\" x=\"82.308571\" xlink:href=\"#m16571261a2\" y=\"228.14\"/>\r\n      </g>\r\n     </g>\r\n     <g id=\"text_2\">\r\n      <!-- 50 -->\r\n      <defs>\r\n       <path d=\"M 10.796875 72.90625 \r\nL 49.515625 72.90625 \r\nL 49.515625 64.59375 \r\nL 19.828125 64.59375 \r\nL 19.828125 46.734375 \r\nQ 21.96875 47.46875 24.109375 47.828125 \r\nQ 26.265625 48.1875 28.421875 48.1875 \r\nQ 40.625 48.1875 47.75 41.5 \r\nQ 54.890625 34.8125 54.890625 23.390625 \r\nQ 54.890625 11.625 47.5625 5.09375 \r\nQ 40.234375 -1.421875 26.90625 -1.421875 \r\nQ 22.3125 -1.421875 17.546875 -0.640625 \r\nQ 12.796875 0.140625 7.71875 1.703125 \r\nL 7.71875 11.625 \r\nQ 12.109375 9.234375 16.796875 8.0625 \r\nQ 21.484375 6.890625 26.703125 6.890625 \r\nQ 35.15625 6.890625 40.078125 11.328125 \r\nQ 45.015625 15.765625 45.015625 23.390625 \r\nQ 45.015625 31 40.078125 35.4375 \r\nQ 35.15625 39.890625 26.703125 39.890625 \r\nQ 22.75 39.890625 18.8125 39.015625 \r\nQ 14.890625 38.140625 10.796875 36.28125 \r\nz\r\n\" id=\"DejaVuSans-35\"/>\r\n      </defs>\r\n      <g transform=\"translate(75.946071 242.738437)scale(0.1 -0.1)\">\r\n       <use xlink:href=\"#DejaVuSans-35\"/>\r\n       <use x=\"63.623047\" xlink:href=\"#DejaVuSans-30\"/>\r\n      </g>\r\n     </g>\r\n    </g>\r\n    <g id=\"xtick_3\">\r\n     <g id=\"line2d_3\">\r\n      <g>\r\n       <use style=\"stroke:#000000;stroke-width:0.8;\" x=\"130.844286\" xlink:href=\"#m16571261a2\" y=\"228.14\"/>\r\n      </g>\r\n     </g>\r\n     <g id=\"text_3\">\r\n      <!-- 100 -->\r\n      <defs>\r\n       <path d=\"M 12.40625 8.296875 \r\nL 28.515625 8.296875 \r\nL 28.515625 63.921875 \r\nL 10.984375 60.40625 \r\nL 10.984375 69.390625 \r\nL 28.421875 72.90625 \r\nL 38.28125 72.90625 \r\nL 38.28125 8.296875 \r\nL 54.390625 8.296875 \r\nL 54.390625 0 \r\nL 12.40625 0 \r\nz\r\n\" id=\"DejaVuSans-31\"/>\r\n      </defs>\r\n      <g transform=\"translate(121.300536 242.738437)scale(0.1 -0.1)\">\r\n       <use xlink:href=\"#DejaVuSans-31\"/>\r\n       <use x=\"63.623047\" xlink:href=\"#DejaVuSans-30\"/>\r\n       <use x=\"127.246094\" xlink:href=\"#DejaVuSans-30\"/>\r\n      </g>\r\n     </g>\r\n    </g>\r\n    <g id=\"xtick_4\">\r\n     <g id=\"line2d_4\">\r\n      <g>\r\n       <use style=\"stroke:#000000;stroke-width:0.8;\" x=\"179.38\" xlink:href=\"#m16571261a2\" y=\"228.14\"/>\r\n      </g>\r\n     </g>\r\n     <g id=\"text_4\">\r\n      <!-- 150 -->\r\n      <g transform=\"translate(169.83625 242.738437)scale(0.1 -0.1)\">\r\n       <use xlink:href=\"#DejaVuSans-31\"/>\r\n       <use x=\"63.623047\" xlink:href=\"#DejaVuSans-35\"/>\r\n       <use x=\"127.246094\" xlink:href=\"#DejaVuSans-30\"/>\r\n      </g>\r\n     </g>\r\n    </g>\r\n    <g id=\"xtick_5\">\r\n     <g id=\"line2d_5\">\r\n      <g>\r\n       <use style=\"stroke:#000000;stroke-width:0.8;\" x=\"227.915714\" xlink:href=\"#m16571261a2\" y=\"228.14\"/>\r\n      </g>\r\n     </g>\r\n     <g id=\"text_5\">\r\n      <!-- 200 -->\r\n      <defs>\r\n       <path d=\"M 19.1875 8.296875 \r\nL 53.609375 8.296875 \r\nL 53.609375 0 \r\nL 7.328125 0 \r\nL 7.328125 8.296875 \r\nQ 12.9375 14.109375 22.625 23.890625 \r\nQ 32.328125 33.6875 34.8125 36.53125 \r\nQ 39.546875 41.84375 41.421875 45.53125 \r\nQ 43.3125 49.21875 43.3125 52.78125 \r\nQ 43.3125 58.59375 39.234375 62.25 \r\nQ 35.15625 65.921875 28.609375 65.921875 \r\nQ 23.96875 65.921875 18.8125 64.3125 \r\nQ 13.671875 62.703125 7.8125 59.421875 \r\nL 7.8125 69.390625 \r\nQ 13.765625 71.78125 18.9375 73 \r\nQ 24.125 74.21875 28.421875 74.21875 \r\nQ 39.75 74.21875 46.484375 68.546875 \r\nQ 53.21875 62.890625 53.21875 53.421875 \r\nQ 53.21875 48.921875 51.53125 44.890625 \r\nQ 49.859375 40.875 45.40625 35.40625 \r\nQ 44.1875 33.984375 37.640625 27.21875 \r\nQ 31.109375 20.453125 19.1875 8.296875 \r\nz\r\n\" id=\"DejaVuSans-32\"/>\r\n      </defs>\r\n      <g transform=\"translate(218.371964 242.738437)scale(0.1 -0.1)\">\r\n       <use xlink:href=\"#DejaVuSans-32\"/>\r\n       <use x=\"63.623047\" xlink:href=\"#DejaVuSans-30\"/>\r\n       <use x=\"127.246094\" xlink:href=\"#DejaVuSans-30\"/>\r\n      </g>\r\n     </g>\r\n    </g>\r\n   </g>\r\n   <g id=\"matplotlib.axis_2\">\r\n    <g id=\"ytick_1\">\r\n     <g id=\"line2d_6\">\r\n      <defs>\r\n       <path d=\"M 0 0 \r\nL -3.5 0 \r\n\" id=\"m1475d32bc5\" style=\"stroke:#000000;stroke-width:0.8;\"/>\r\n      </defs>\r\n      <g>\r\n       <use style=\"stroke:#000000;stroke-width:0.8;\" x=\"33.2875\" xlink:href=\"#m1475d32bc5\" y=\"11.185357\"/>\r\n      </g>\r\n     </g>\r\n     <g id=\"text_6\">\r\n      <!-- 0 -->\r\n      <g transform=\"translate(19.925 14.984576)scale(0.1 -0.1)\">\r\n       <use xlink:href=\"#DejaVuSans-30\"/>\r\n      </g>\r\n     </g>\r\n    </g>\r\n    <g id=\"ytick_2\">\r\n     <g id=\"line2d_7\">\r\n      <g>\r\n       <use style=\"stroke:#000000;stroke-width:0.8;\" x=\"33.2875\" xlink:href=\"#m1475d32bc5\" y=\"35.453214\"/>\r\n      </g>\r\n     </g>\r\n     <g id=\"text_7\">\r\n      <!-- 25 -->\r\n      <g transform=\"translate(13.5625 39.252433)scale(0.1 -0.1)\">\r\n       <use xlink:href=\"#DejaVuSans-32\"/>\r\n       <use x=\"63.623047\" xlink:href=\"#DejaVuSans-35\"/>\r\n      </g>\r\n     </g>\r\n    </g>\r\n    <g id=\"ytick_3\">\r\n     <g id=\"line2d_8\">\r\n      <g>\r\n       <use style=\"stroke:#000000;stroke-width:0.8;\" x=\"33.2875\" xlink:href=\"#m1475d32bc5\" y=\"59.721071\"/>\r\n      </g>\r\n     </g>\r\n     <g id=\"text_8\">\r\n      <!-- 50 -->\r\n      <g transform=\"translate(13.5625 63.52029)scale(0.1 -0.1)\">\r\n       <use xlink:href=\"#DejaVuSans-35\"/>\r\n       <use x=\"63.623047\" xlink:href=\"#DejaVuSans-30\"/>\r\n      </g>\r\n     </g>\r\n    </g>\r\n    <g id=\"ytick_4\">\r\n     <g id=\"line2d_9\">\r\n      <g>\r\n       <use style=\"stroke:#000000;stroke-width:0.8;\" x=\"33.2875\" xlink:href=\"#m1475d32bc5\" y=\"83.988929\"/>\r\n      </g>\r\n     </g>\r\n     <g id=\"text_9\">\r\n      <!-- 75 -->\r\n      <defs>\r\n       <path d=\"M 8.203125 72.90625 \r\nL 55.078125 72.90625 \r\nL 55.078125 68.703125 \r\nL 28.609375 0 \r\nL 18.3125 0 \r\nL 43.21875 64.59375 \r\nL 8.203125 64.59375 \r\nz\r\n\" id=\"DejaVuSans-37\"/>\r\n      </defs>\r\n      <g transform=\"translate(13.5625 87.788147)scale(0.1 -0.1)\">\r\n       <use xlink:href=\"#DejaVuSans-37\"/>\r\n       <use x=\"63.623047\" xlink:href=\"#DejaVuSans-35\"/>\r\n      </g>\r\n     </g>\r\n    </g>\r\n    <g id=\"ytick_5\">\r\n     <g id=\"line2d_10\">\r\n      <g>\r\n       <use style=\"stroke:#000000;stroke-width:0.8;\" x=\"33.2875\" xlink:href=\"#m1475d32bc5\" y=\"108.256786\"/>\r\n      </g>\r\n     </g>\r\n     <g id=\"text_10\">\r\n      <!-- 100 -->\r\n      <g transform=\"translate(7.2 112.056004)scale(0.1 -0.1)\">\r\n       <use xlink:href=\"#DejaVuSans-31\"/>\r\n       <use x=\"63.623047\" xlink:href=\"#DejaVuSans-30\"/>\r\n       <use x=\"127.246094\" xlink:href=\"#DejaVuSans-30\"/>\r\n      </g>\r\n     </g>\r\n    </g>\r\n    <g id=\"ytick_6\">\r\n     <g id=\"line2d_11\">\r\n      <g>\r\n       <use style=\"stroke:#000000;stroke-width:0.8;\" x=\"33.2875\" xlink:href=\"#m1475d32bc5\" y=\"132.524643\"/>\r\n      </g>\r\n     </g>\r\n     <g id=\"text_11\">\r\n      <!-- 125 -->\r\n      <g transform=\"translate(7.2 136.323862)scale(0.1 -0.1)\">\r\n       <use xlink:href=\"#DejaVuSans-31\"/>\r\n       <use x=\"63.623047\" xlink:href=\"#DejaVuSans-32\"/>\r\n       <use x=\"127.246094\" xlink:href=\"#DejaVuSans-35\"/>\r\n      </g>\r\n     </g>\r\n    </g>\r\n    <g id=\"ytick_7\">\r\n     <g id=\"line2d_12\">\r\n      <g>\r\n       <use style=\"stroke:#000000;stroke-width:0.8;\" x=\"33.2875\" xlink:href=\"#m1475d32bc5\" y=\"156.7925\"/>\r\n      </g>\r\n     </g>\r\n     <g id=\"text_12\">\r\n      <!-- 150 -->\r\n      <g transform=\"translate(7.2 160.591719)scale(0.1 -0.1)\">\r\n       <use xlink:href=\"#DejaVuSans-31\"/>\r\n       <use x=\"63.623047\" xlink:href=\"#DejaVuSans-35\"/>\r\n       <use x=\"127.246094\" xlink:href=\"#DejaVuSans-30\"/>\r\n      </g>\r\n     </g>\r\n    </g>\r\n    <g id=\"ytick_8\">\r\n     <g id=\"line2d_13\">\r\n      <g>\r\n       <use style=\"stroke:#000000;stroke-width:0.8;\" x=\"33.2875\" xlink:href=\"#m1475d32bc5\" y=\"181.060357\"/>\r\n      </g>\r\n     </g>\r\n     <g id=\"text_13\">\r\n      <!-- 175 -->\r\n      <g transform=\"translate(7.2 184.859576)scale(0.1 -0.1)\">\r\n       <use xlink:href=\"#DejaVuSans-31\"/>\r\n       <use x=\"63.623047\" xlink:href=\"#DejaVuSans-37\"/>\r\n       <use x=\"127.246094\" xlink:href=\"#DejaVuSans-35\"/>\r\n      </g>\r\n     </g>\r\n    </g>\r\n    <g id=\"ytick_9\">\r\n     <g id=\"line2d_14\">\r\n      <g>\r\n       <use style=\"stroke:#000000;stroke-width:0.8;\" x=\"33.2875\" xlink:href=\"#m1475d32bc5\" y=\"205.328214\"/>\r\n      </g>\r\n     </g>\r\n     <g id=\"text_14\">\r\n      <!-- 200 -->\r\n      <g transform=\"translate(7.2 209.127433)scale(0.1 -0.1)\">\r\n       <use xlink:href=\"#DejaVuSans-32\"/>\r\n       <use x=\"63.623047\" xlink:href=\"#DejaVuSans-30\"/>\r\n       <use x=\"127.246094\" xlink:href=\"#DejaVuSans-30\"/>\r\n      </g>\r\n     </g>\r\n    </g>\r\n   </g>\r\n   <g id=\"patch_3\">\r\n    <path d=\"M 33.2875 228.14 \r\nL 33.2875 10.7 \r\n\" style=\"fill:none;stroke:#000000;stroke-linecap:square;stroke-linejoin:miter;stroke-width:0.8;\"/>\r\n   </g>\r\n   <g id=\"patch_4\">\r\n    <path d=\"M 250.7275 228.14 \r\nL 250.7275 10.7 \r\n\" style=\"fill:none;stroke:#000000;stroke-linecap:square;stroke-linejoin:miter;stroke-width:0.8;\"/>\r\n   </g>\r\n   <g id=\"patch_5\">\r\n    <path d=\"M 33.2875 228.14 \r\nL 250.7275 228.14 \r\n\" style=\"fill:none;stroke:#000000;stroke-linecap:square;stroke-linejoin:miter;stroke-width:0.8;\"/>\r\n   </g>\r\n   <g id=\"patch_6\">\r\n    <path d=\"M 33.2875 10.7 \r\nL 250.7275 10.7 \r\n\" style=\"fill:none;stroke:#000000;stroke-linecap:square;stroke-linejoin:miter;stroke-width:0.8;\"/>\r\n   </g>\r\n  </g>\r\n </g>\r\n <defs>\r\n  <clipPath id=\"p99f321a189\">\r\n   <rect height=\"217.44\" width=\"217.44\" x=\"33.2875\" y=\"10.7\"/>\r\n  </clipPath>\r\n </defs>\r\n</svg>\r\n",
      "image/png": "[encoded data removed]"
     },
     "metadata": {
      "needs_background": "light"
     }
    }
   ],
   "source": [
    "# 读取并展示要后处理的数据\n",
    "# 城市数目\n",
    "NUM_CITY=8\n",
    "# 路径图像 \n",
    "path_image=np.load(\"demo_path.npy\")\n",
    "# 城市坐标\n",
    "city_site=np.array([[ 13,  42],\n",
    "                   [ 95, 149],\n",
    "                   [145, 144],\n",
    "                   [173, 163],\n",
    "                   [186, 155],\n",
    "                   [200, 166],\n",
    "                   [204,  12],\n",
    "                   [209,  89]])\n",
    "# 展示路径图像 背景位置数值为0 路径为1\n",
    "plt.imshow(path_image,cmap=plt.cm.gray)\n",
    "plt.show()"
   ]
  },
  {
   "cell_type": "code",
   "execution_count": 3,
   "metadata": {
    "collapsed": true
   },
   "outputs": [],
   "source": [
    "# 函数：生成单个线条是最优路径的概率值\n",
    "def line(startx,starty,endx,endy,path_image):\n",
    "    # startx 和 starty 是线条出发点的横纵坐标\n",
    "    # endx 和 endy 是线条到达点的横纵坐标\n",
    "    # path_image 是路径图像\n",
    "    n1=abs(endx-startx)\n",
    "    n2=abs(endy-starty)\n",
    "    n=max(n1,n2) # 路径像素点总数\n",
    "    coincide=0 #重合次数\n",
    "    if n==n1:\n",
    "        if startx >= endx:\n",
    "                for x in range(endx,startx):\n",
    "                        y=int((x-startx)*(endy-starty)/(endx-startx))+starty\n",
    "                        # 注：额外判断线条上下一个像素点，可以增加准确率\n",
    "                        if path_image[x,y]==1 or path_image[x,y+1]==1 or path_image[x,y-1]==1:\n",
    "                            coincide=coincide+1\n",
    "        else:\n",
    "                for x in range(startx,endx):\n",
    "                        y=int((x-startx)*(endy-starty)/(endx-startx))+starty\n",
    "                        if path_image[x,y]==1 or path_image[x,y+1]==1 or path_image[x,y-1]==1:\n",
    "                            coincide=coincide+1\n",
    "    if n==n2 and n!=n1:\n",
    "        if starty >= endy:\n",
    "                for y in range(endy,starty):\n",
    "                        x=int((y-starty)*(endx-startx)/(endy-starty))+startx\n",
    "                        if path_image[x,y]==1 or path_image[x-1,y]==1 or path_image[x+1,y]==1:\n",
    "                            coincide=coincide+1\n",
    "        else:\n",
    "                for y in range(starty,endy):\n",
    "                        x=int((y-starty)*(endx-startx)/(endy-starty))+startx\n",
    "                        if path_image[x,y]==1 or path_image[x-1,y]==1 or path_image[x+1,y]==1:\n",
    "                            coincide=coincide+1\n",
    "        \n",
    "    return coincide/n # 返回 重合次数/路径像素点总数"
   ]
  },
  {
   "cell_type": "code",
   "execution_count": 4,
   "metadata": {},
   "outputs": [
    {
     "output_type": "execute_result",
     "data": {
      "text/plain": [
       "1.0"
      ]
     },
     "metadata": {},
     "execution_count": 4
    }
   ],
   "source": [
    "# 函数测试： 第一个城市与第二个城市之间连线的概率值\n",
    "line(13,42,95,149,path_image)"
   ]
  },
  {
   "cell_type": "code",
   "execution_count": 5,
   "metadata": {},
   "outputs": [],
   "source": [
    "# 函数 生成所有城市之间连线的概率值\n",
    "def belief_value(city_site,path_image):\n",
    "    # 输入城市坐标 与 路径图像\n",
    "    A=np.zeros([NUM_CITY,NUM_CITY]) # 邻接矩阵\n",
    "    # 对于A逐行逐列生成连线概率值,计算上三角矩阵\n",
    "    for row in range(NUM_CITY-1):\n",
    "        for col in range(row+1,NUM_CITY):\n",
    "            A[row,col]=line(city_site[row,0],city_site[row,1],city_site[col,0],city_site[col,1],path_image)\n",
    "    # 下三角矩阵采用上三角矩阵转置生成\n",
    "    for row in range(NUM_CITY):\n",
    "        for col in range(row,NUM_CITY):\n",
    "            A[col,row]=A[row,col]\n",
    "    return A"
   ]
  },
  {
   "cell_type": "code",
   "execution_count": 6,
   "metadata": {},
   "outputs": [
    {
     "output_type": "stream",
     "name": "stdout",
     "text": [
      "[[0.         1.         0.09848485 0.2375     0.07514451 0.14438503\n  1.         0.07653061]\n [1.         0.         1.         0.25641026 0.42857143 0.37142857\n  0.09489051 0.11403509]\n [0.09848485 1.         0.         1.         0.31707317 0.58181818\n  0.09848485 0.203125  ]\n [0.2375     0.25641026 1.         0.         1.         0.48148148\n  0.08609272 0.2027027 ]\n [0.07514451 0.42857143 0.31707317 1.         0.         1.\n  0.0979021  0.21212121]\n [0.14438503 0.37142857 0.58181818 0.48148148 1.         0.\n  0.27922078 1.        ]\n [1.         0.09489051 0.09848485 0.08609272 0.0979021  0.27922078\n  0.         1.        ]\n [0.07653061 0.11403509 0.203125   0.2027027  0.21212121 1.\n  1.         0.        ]]\n"
     ]
    }
   ],
   "source": [
    "# 测试函数\n",
    "A=belief_value(city_site,path_image)\n",
    "# 出现小数点的原因是城市坐标位置的像素被记入了路径的概率值\n",
    "# 如果输出图像中区分城市和路径可以避免这个问题\n",
    "print(A)"
   ]
  },
  {
   "cell_type": "code",
   "execution_count": 7,
   "metadata": {},
   "outputs": [
    {
     "output_type": "stream",
     "name": "stdout",
     "text": [
      "出 发 城 市: [13 42]\n第 1 个城市: [ 95 149]\n第 2 个城市: [145 144]\n第 3 个城市: [173 163]\n第 4 个城市: [186 155]\n第 5 个城市: [200 166]\n第 6 个城市: [209  89]\n第 7 个城市: [204  12]\n返 回 城 市: [13 42]\n"
     ]
    }
   ],
   "source": [
    "# 生成城市搜索次序表\n",
    "City_order=np.arange(NUM_CITY)\n",
    "# 以A中第0行出发，找出下一个城市\n",
    "Next_City=0\n",
    "print(\"出 发 城 市:\",city_site[Next_City])\n",
    "for search_city in range(1,NUM_CITY):\n",
    "    # 将已经经过的城市从搜索次序表中剔除\n",
    "    City_order=City_order[np.where(City_order!=Next_City)]\n",
    "    \n",
    "    # 在未经过的城市之中搜索\n",
    "    biggest_prob=0\n",
    "    for i in range(NUM_CITY):\n",
    "        if i in City_order and A[Next_City,i]>biggest_prob:\n",
    "            biggest_prob=A[Next_City,i]\n",
    "            Next_City=i\n",
    "    print(\"第\",search_city,\"个城市:\",end=\" \")\n",
    "    print(city_site[Next_City])\n",
    "print(\"返 回 城 市:\",city_site[0])"
   ]
  },
  {
   "cell_type": "markdown",
   "metadata": {},
   "source": [
    "注：为确保可行解 被经过的城市要被剔除搜索列表 且搜索完毕后强制返回出发城市"
   ]
  }
 ],
 "metadata": {
  "kernelspec": {
   "name": "python370jvsc74a57bd0a8f61be024eba58adef938c9aa1e29e02cb3dece83a5348b1a2dafd16a070453",
   "display_name": "Python 3.7.0 64-bit ('base': conda)"
  },
  "language_info": {
   "codemirror_mode": {
    "name": "ipython",
    "version": 3
   },
   "file_extension": ".py",
   "mimetype": "text/x-python",
   "name": "python",
   "nbconvert_exporter": "python",
   "pygments_lexer": "ipython3",
   "version": "3.7.0"
  }
 },
 "nbformat": 4,
 "nbformat_minor": 4
}